{
 "cells": [
  {
   "cell_type": "markdown",
   "id": "8d0e1fde-aae6-4be3-8d90-f4462d8bad74",
   "metadata": {},
   "source": [
    "## Assignment: Analyzing Historical Stock/Revenue Data and Building a Dashboard"
   ]
  },
  {
   "cell_type": "markdown",
   "id": "7d938f5e-d228-42e8-b8e2-b8bc1c8f49cb",
   "metadata": {},
   "source": [
    "## Q1 - Extracting Tesla Stock Data Using yfinance - 2 Points"
   ]
  },
  {
   "cell_type": "code",
   "execution_count": 4,
   "id": "9e97ec89-7742-4da1-83ed-e0c905ecd77c",
   "metadata": {},
   "outputs": [],
   "source": [
    "import yfinance as yf"
   ]
  },
  {
   "cell_type": "code",
   "execution_count": 5,
   "id": "3e5f1850-027b-4f63-b25d-f4b2646a8e7d",
   "metadata": {},
   "outputs": [
    {
     "data": {
      "text/html": [
       "<div>\n",
       "<style scoped>\n",
       "    .dataframe tbody tr th:only-of-type {\n",
       "        vertical-align: middle;\n",
       "    }\n",
       "\n",
       "    .dataframe tbody tr th {\n",
       "        vertical-align: top;\n",
       "    }\n",
       "\n",
       "    .dataframe thead th {\n",
       "        text-align: right;\n",
       "    }\n",
       "</style>\n",
       "<table border=\"1\" class=\"dataframe\">\n",
       "  <thead>\n",
       "    <tr style=\"text-align: right;\">\n",
       "      <th></th>\n",
       "      <th>Open</th>\n",
       "      <th>High</th>\n",
       "      <th>Low</th>\n",
       "      <th>Close</th>\n",
       "      <th>Volume</th>\n",
       "      <th>Dividends</th>\n",
       "      <th>Stock Splits</th>\n",
       "    </tr>\n",
       "    <tr>\n",
       "      <th>Date</th>\n",
       "      <th></th>\n",
       "      <th></th>\n",
       "      <th></th>\n",
       "      <th></th>\n",
       "      <th></th>\n",
       "      <th></th>\n",
       "      <th></th>\n",
       "    </tr>\n",
       "  </thead>\n",
       "  <tbody>\n",
       "    <tr>\n",
       "      <th>2010-06-29 00:00:00-04:00</th>\n",
       "      <td>1.266667</td>\n",
       "      <td>1.666667</td>\n",
       "      <td>1.169333</td>\n",
       "      <td>1.592667</td>\n",
       "      <td>281494500</td>\n",
       "      <td>0.0</td>\n",
       "      <td>0.0</td>\n",
       "    </tr>\n",
       "    <tr>\n",
       "      <th>2010-06-30 00:00:00-04:00</th>\n",
       "      <td>1.719333</td>\n",
       "      <td>2.028000</td>\n",
       "      <td>1.553333</td>\n",
       "      <td>1.588667</td>\n",
       "      <td>257806500</td>\n",
       "      <td>0.0</td>\n",
       "      <td>0.0</td>\n",
       "    </tr>\n",
       "    <tr>\n",
       "      <th>2010-07-01 00:00:00-04:00</th>\n",
       "      <td>1.666667</td>\n",
       "      <td>1.728000</td>\n",
       "      <td>1.351333</td>\n",
       "      <td>1.464000</td>\n",
       "      <td>123282000</td>\n",
       "      <td>0.0</td>\n",
       "      <td>0.0</td>\n",
       "    </tr>\n",
       "    <tr>\n",
       "      <th>2010-07-02 00:00:00-04:00</th>\n",
       "      <td>1.533333</td>\n",
       "      <td>1.540000</td>\n",
       "      <td>1.247333</td>\n",
       "      <td>1.280000</td>\n",
       "      <td>77097000</td>\n",
       "      <td>0.0</td>\n",
       "      <td>0.0</td>\n",
       "    </tr>\n",
       "    <tr>\n",
       "      <th>2010-07-06 00:00:00-04:00</th>\n",
       "      <td>1.333333</td>\n",
       "      <td>1.333333</td>\n",
       "      <td>1.055333</td>\n",
       "      <td>1.074000</td>\n",
       "      <td>103003500</td>\n",
       "      <td>0.0</td>\n",
       "      <td>0.0</td>\n",
       "    </tr>\n",
       "  </tbody>\n",
       "</table>\n",
       "</div>"
      ],
      "text/plain": [
       "                               Open      High       Low     Close     Volume  \\\n",
       "Date                                                                           \n",
       "2010-06-29 00:00:00-04:00  1.266667  1.666667  1.169333  1.592667  281494500   \n",
       "2010-06-30 00:00:00-04:00  1.719333  2.028000  1.553333  1.588667  257806500   \n",
       "2010-07-01 00:00:00-04:00  1.666667  1.728000  1.351333  1.464000  123282000   \n",
       "2010-07-02 00:00:00-04:00  1.533333  1.540000  1.247333  1.280000   77097000   \n",
       "2010-07-06 00:00:00-04:00  1.333333  1.333333  1.055333  1.074000  103003500   \n",
       "\n",
       "                           Dividends  Stock Splits  \n",
       "Date                                                \n",
       "2010-06-29 00:00:00-04:00        0.0           0.0  \n",
       "2010-06-30 00:00:00-04:00        0.0           0.0  \n",
       "2010-07-01 00:00:00-04:00        0.0           0.0  \n",
       "2010-07-02 00:00:00-04:00        0.0           0.0  \n",
       "2010-07-06 00:00:00-04:00        0.0           0.0  "
      ]
     },
     "execution_count": 5,
     "metadata": {},
     "output_type": "execute_result"
    }
   ],
   "source": [
    "tsla = yf.Ticker(\"TSLA\")\n",
    "tsla_data = tsla.history(period=\"max\")\n",
    "tsla_data.head()"
   ]
  },
  {
   "cell_type": "markdown",
   "id": "a387376a-91fa-45b9-ae01-d5d4945497e9",
   "metadata": {},
   "source": [
    "## Q2 - Extracting Tesla Revenue Data Using Webscraping - 1 Points"
   ]
  },
  {
   "cell_type": "code",
   "execution_count": 13,
   "id": "c1fd44ae-fda5-4ae5-9c36-29dcba34c338",
   "metadata": {},
   "outputs": [],
   "source": [
    "from bs4 import BeautifulSoup"
   ]
  },
  {
   "cell_type": "code",
   "execution_count": null,
   "id": "61c3c457-53cd-4284-955e-651897b5ccc1",
   "metadata": {},
   "outputs": [],
   "source": [
    "html="
   ]
  },
  {
   "cell_type": "code",
   "execution_count": 12,
   "id": "f7dbcf6c-ca20-4e50-915d-396c585413e5",
   "metadata": {},
   "outputs": [
    {
     "ename": "NameError",
     "evalue": "name 'html' is not defined",
     "output_type": "error",
     "traceback": [
      "\u001b[0;31m---------------------------------------------------------------------------\u001b[0m",
      "\u001b[0;31mNameError\u001b[0m                                 Traceback (most recent call last)",
      "Cell \u001b[0;32mIn[12], line 1\u001b[0m\n\u001b[0;32m----> 1\u001b[0m soup\u001b[38;5;241m=\u001b[39mBeautifulSoup(html, \u001b[38;5;124m'\u001b[39m\u001b[38;5;124mhtml5lib\u001b[39m\u001b[38;5;124m'\u001b[39m)\n",
      "\u001b[0;31mNameError\u001b[0m: name 'html' is not defined"
     ]
    }
   ],
   "source": [
    "soup=BeautifulSoup(html, 'html5lib')"
   ]
  },
  {
   "cell_type": "code",
   "execution_count": null,
   "id": "2474a238-4cee-4850-b272-806fb51689fa",
   "metadata": {},
   "outputs": [],
   "source": [
    "table=table.find_all(name='tr')"
   ]
  },
  {
   "cell_type": "markdown",
   "id": "6b8f7102-e469-4982-a268-ebefce45b150",
   "metadata": {},
   "source": [
    "## Q3 - Extracting GameStop Stock Data Using yfinance - 2 Points"
   ]
  },
  {
   "cell_type": "code",
   "execution_count": 6,
   "id": "14592765-d846-4747-8801-6591b167bb84",
   "metadata": {},
   "outputs": [
    {
     "data": {
      "text/html": [
       "<div>\n",
       "<style scoped>\n",
       "    .dataframe tbody tr th:only-of-type {\n",
       "        vertical-align: middle;\n",
       "    }\n",
       "\n",
       "    .dataframe tbody tr th {\n",
       "        vertical-align: top;\n",
       "    }\n",
       "\n",
       "    .dataframe thead th {\n",
       "        text-align: right;\n",
       "    }\n",
       "</style>\n",
       "<table border=\"1\" class=\"dataframe\">\n",
       "  <thead>\n",
       "    <tr style=\"text-align: right;\">\n",
       "      <th></th>\n",
       "      <th>Open</th>\n",
       "      <th>High</th>\n",
       "      <th>Low</th>\n",
       "      <th>Close</th>\n",
       "      <th>Volume</th>\n",
       "      <th>Dividends</th>\n",
       "      <th>Stock Splits</th>\n",
       "    </tr>\n",
       "    <tr>\n",
       "      <th>Date</th>\n",
       "      <th></th>\n",
       "      <th></th>\n",
       "      <th></th>\n",
       "      <th></th>\n",
       "      <th></th>\n",
       "      <th></th>\n",
       "      <th></th>\n",
       "    </tr>\n",
       "  </thead>\n",
       "  <tbody>\n",
       "    <tr>\n",
       "      <th>2002-02-13 00:00:00-05:00</th>\n",
       "      <td>1.620129</td>\n",
       "      <td>1.693350</td>\n",
       "      <td>1.603296</td>\n",
       "      <td>1.691667</td>\n",
       "      <td>76216000</td>\n",
       "      <td>0.0</td>\n",
       "      <td>0.0</td>\n",
       "    </tr>\n",
       "    <tr>\n",
       "      <th>2002-02-14 00:00:00-05:00</th>\n",
       "      <td>1.712707</td>\n",
       "      <td>1.716074</td>\n",
       "      <td>1.670626</td>\n",
       "      <td>1.683250</td>\n",
       "      <td>11021600</td>\n",
       "      <td>0.0</td>\n",
       "      <td>0.0</td>\n",
       "    </tr>\n",
       "    <tr>\n",
       "      <th>2002-02-15 00:00:00-05:00</th>\n",
       "      <td>1.683250</td>\n",
       "      <td>1.687458</td>\n",
       "      <td>1.658002</td>\n",
       "      <td>1.674834</td>\n",
       "      <td>8389600</td>\n",
       "      <td>0.0</td>\n",
       "      <td>0.0</td>\n",
       "    </tr>\n",
       "    <tr>\n",
       "      <th>2002-02-19 00:00:00-05:00</th>\n",
       "      <td>1.666418</td>\n",
       "      <td>1.666418</td>\n",
       "      <td>1.578047</td>\n",
       "      <td>1.607504</td>\n",
       "      <td>7410400</td>\n",
       "      <td>0.0</td>\n",
       "      <td>0.0</td>\n",
       "    </tr>\n",
       "    <tr>\n",
       "      <th>2002-02-20 00:00:00-05:00</th>\n",
       "      <td>1.615920</td>\n",
       "      <td>1.662210</td>\n",
       "      <td>1.603296</td>\n",
       "      <td>1.662210</td>\n",
       "      <td>6892800</td>\n",
       "      <td>0.0</td>\n",
       "      <td>0.0</td>\n",
       "    </tr>\n",
       "  </tbody>\n",
       "</table>\n",
       "</div>"
      ],
      "text/plain": [
       "                               Open      High       Low     Close    Volume  \\\n",
       "Date                                                                          \n",
       "2002-02-13 00:00:00-05:00  1.620129  1.693350  1.603296  1.691667  76216000   \n",
       "2002-02-14 00:00:00-05:00  1.712707  1.716074  1.670626  1.683250  11021600   \n",
       "2002-02-15 00:00:00-05:00  1.683250  1.687458  1.658002  1.674834   8389600   \n",
       "2002-02-19 00:00:00-05:00  1.666418  1.666418  1.578047  1.607504   7410400   \n",
       "2002-02-20 00:00:00-05:00  1.615920  1.662210  1.603296  1.662210   6892800   \n",
       "\n",
       "                           Dividends  Stock Splits  \n",
       "Date                                                \n",
       "2002-02-13 00:00:00-05:00        0.0           0.0  \n",
       "2002-02-14 00:00:00-05:00        0.0           0.0  \n",
       "2002-02-15 00:00:00-05:00        0.0           0.0  \n",
       "2002-02-19 00:00:00-05:00        0.0           0.0  \n",
       "2002-02-20 00:00:00-05:00        0.0           0.0  "
      ]
     },
     "execution_count": 6,
     "metadata": {},
     "output_type": "execute_result"
    }
   ],
   "source": [
    "gme = yf.Ticker(\"GME\")\n",
    "gme_data = gme.history(period=\"max\")\n",
    "gme_data.head()"
   ]
  },
  {
   "cell_type": "markdown",
   "id": "da670028-56b7-41a6-acd6-78e4303bc600",
   "metadata": {},
   "source": [
    "## Q4 - Extracting GameStop Revenue Data Using Webscraping - 1 Points"
   ]
  },
  {
   "cell_type": "code",
   "execution_count": null,
   "id": "5353d048-4c53-4ddf-b2bb-ba805fec5345",
   "metadata": {},
   "outputs": [],
   "source": []
  },
  {
   "cell_type": "markdown",
   "id": "3eb71422-2b4a-44e3-9f7e-01fbf3f5353d",
   "metadata": {},
   "source": [
    "## Q5 - Tesla Stock and Revenue Dashboard - 2 Points"
   ]
  },
  {
   "cell_type": "code",
   "execution_count": null,
   "id": "355f2942-c2dd-44a9-900b-29d85c132721",
   "metadata": {},
   "outputs": [],
   "source": []
  },
  {
   "cell_type": "markdown",
   "id": "101caad2-4861-4d93-86be-2e0cb857952f",
   "metadata": {},
   "source": [
    "## Q6 - GameStop Stock and Revenue Dashboard- 2 Points"
   ]
  },
  {
   "cell_type": "code",
   "execution_count": null,
   "id": "45757978-c46e-4152-857c-14be3c7c4c04",
   "metadata": {},
   "outputs": [],
   "source": []
  },
  {
   "cell_type": "markdown",
   "id": "ec8ffe70-7a47-474d-ae86-c411a4eae296",
   "metadata": {},
   "source": [
    "## Q7 - Sharing your Assignment Notebook - 2 Points\n"
   ]
  }
 ],
 "metadata": {
  "kernelspec": {
   "display_name": "Python 3 (ipykernel)",
   "language": "python",
   "name": "python3"
  },
  "language_info": {
   "codemirror_mode": {
    "name": "ipython",
    "version": 3
   },
   "file_extension": ".py",
   "mimetype": "text/x-python",
   "name": "python",
   "nbconvert_exporter": "python",
   "pygments_lexer": "ipython3",
   "version": "3.11.7"
  }
 },
 "nbformat": 4,
 "nbformat_minor": 5
}
